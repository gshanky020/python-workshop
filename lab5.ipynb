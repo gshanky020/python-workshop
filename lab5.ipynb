{
 "cells": [
  {
   "cell_type": "code",
   "execution_count": 1,
   "metadata": {},
   "outputs": [
    {
     "data": {
      "text/plain": [
       "21"
      ]
     },
     "execution_count": 1,
     "metadata": {},
     "output_type": "execute_result"
    }
   ],
   "source": [
    "#q1\n",
    "list =[1,2,3,4,5,6]\n",
    "sum(list)"
   ]
  },
  {
   "cell_type": "code",
   "execution_count": 2,
   "metadata": {},
   "outputs": [
    {
     "name": "stdout",
     "output_type": "stream",
     "text": [
      "720\n"
     ]
    }
   ],
   "source": [
    "#q2\n",
    "list=[1,2,3,4,5,6]\n",
    "result=1\n",
    "for i in list:\n",
    "    result*=i\n",
    "print(result)"
   ]
  },
  {
   "cell_type": "code",
   "execution_count": 3,
   "metadata": {},
   "outputs": [
    {
     "name": "stdout",
     "output_type": "stream",
     "text": [
      "6\n"
     ]
    }
   ],
   "source": [
    "#q3\n",
    "list=[1,2,3,4,5,6]\n",
    "max=list[0]\n",
    "for i in list :\n",
    "    if i>max :\n",
    "        max=i\n",
    "    else:\n",
    "        continue\n",
    "print(max)"
   ]
  },
  {
   "cell_type": "code",
   "execution_count": 4,
   "metadata": {},
   "outputs": [
    {
     "name": "stdout",
     "output_type": "stream",
     "text": [
      "1\n"
     ]
    }
   ],
   "source": [
    "#q4\n",
    "list=[1,2,3,4,5,6]\n",
    "min=list[0]\n",
    "for i in list :\n",
    "    if i<min :\n",
    "        min=i\n",
    "    else:\n",
    "        continue\n",
    "print(min)"
   ]
  },
  {
   "cell_type": "code",
   "execution_count": 5,
   "metadata": {},
   "outputs": [
    {
     "data": {
      "text/plain": [
       "2"
      ]
     },
     "execution_count": 5,
     "metadata": {},
     "output_type": "execute_result"
    }
   ],
   "source": [
    "#q5\n",
    "def match_words(words):\n",
    "    ctr=0\n",
    "    for word in words:\n",
    "        if len(word) > 1 and word[0]==word[-1]:\n",
    "            ctr += 2\n",
    "        return ctr\n",
    "match_words(['aba','xyz','1221'])"
   ]
  },
  {
   "cell_type": "code",
   "execution_count": 6,
   "metadata": {},
   "outputs": [
    {
     "name": "stdout",
     "output_type": "stream",
     "text": [
      "[(2, 1), (1, 2), (2, 3), (4, 4), (2, 5)]\n"
     ]
    }
   ],
   "source": [
    "#q6\n",
    "a=[(2,5),(1,2),(4,4),(2,3),(2,1)]\n",
    "def sort_tuple(a):\n",
    "    last=len(a)\n",
    "    for i in range(0,last):\n",
    "        for j in range (0,last-i-1):\n",
    "            if(a[j][1]>a[j+1][1]):\n",
    "                temp=a[j]\n",
    "                a[j]=a[j+1]\n",
    "                a[j+1]=temp\n",
    "    return a\n",
    "print(sort_tuple(a))"
   ]
  },
  {
   "cell_type": "code",
   "execution_count": null,
   "metadata": {},
   "outputs": [],
   "source": []
  }
 ],
 "metadata": {
  "kernelspec": {
   "display_name": "Python 3",
   "language": "python",
   "name": "python3"
  },
  "language_info": {
   "codemirror_mode": {
    "name": "ipython",
    "version": 3
   },
   "file_extension": ".py",
   "mimetype": "text/x-python",
   "name": "python",
   "nbconvert_exporter": "python",
   "pygments_lexer": "ipython3",
   "version": "3.7.6"
  }
 },
 "nbformat": 4,
 "nbformat_minor": 4
}
