{
 "cells": [
  {
   "cell_type": "code",
   "execution_count": 1,
   "metadata": {},
   "outputs": [
    {
     "name": "stdout",
     "output_type": "stream",
     "text": [
      "Enter the first number: 1\n",
      "Enter the second number: 2\n",
      "Enter the third number: 3\n",
      "1.1547005383792515\n"
     ]
    }
   ],
   "source": [
    "                                      Setc \n",
    "value1=int(input('Enter the first number: '))\n",
    "value2=int(input('Enter the second number: '))\n",
    "value3=int(input('Enter the third number: '))\n",
    "Q=((2*value1*value2)/value3)**(1/2)\n",
    "print(Q)"
   ]
  },
  {
   "cell_type": "code",
   "execution_count": 2,
   "metadata": {},
   "outputs": [
    {
     "name": "stdout",
     "output_type": "stream",
     "text": [
      "Enter a string: hello shanky\n",
      "Even indexes letters are:  ['h', 'l', 'o', 's', 'a', 'k']\n"
     ]
    }
   ],
   "source": [
    "string=input('Enter a string: ')\n",
    "lst=list()\n",
    "for i in range(len(string)):\n",
    "    if(i%2==0):\n",
    "        lst.append(string[i])\n",
    "print('Even indexes letters are: ',lst)"
   ]
  },
  {
   "cell_type": "markdown",
   "metadata": {},
   "source": [
    "Q1. What is the syntax to call a constructor of a base class from child class\n",
    "Ans. we can call using Super() Command.\n",
    "\n",
    "Q2:  How is a class made as inherited class (syntax of child class) \n",
    "Ans. class Parent:\n",
    "     pass\n",
    "class Child(Parent):\n",
    "     pass\n",
    "     \n",
    "  Here the class child inherits the class parent\n",
    "  \n",
    "Q3.Print an element of Nested dictionary.  \n",
    "Ans.people = {1: {'name': 'Ram', 'age': '24', 'sex': 'Male'},\n",
    "          2: {'name': 'Rekha', 'age': '21', 'sex': 'Female'}}\n",
    "\n",
    "print(people)"
   ]
  }
 ],
 "metadata": {
  "kernelspec": {
   "display_name": "Python 3",
   "language": "python",
   "name": "python3"
  },
  "language_info": {
   "codemirror_mode": {
    "name": "ipython",
    "version": 3
   },
   "file_extension": ".py",
   "mimetype": "text/x-python",
   "name": "python",
   "nbconvert_exporter": "python",
   "pygments_lexer": "ipython3",
   "version": "3.7.4"
  }
 },
 "nbformat": 4,
 "nbformat_minor": 2
}
