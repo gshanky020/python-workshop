{
 "cells": [
  {
   "cell_type": "code",
   "execution_count": 1,
   "metadata": {},
   "outputs": [
    {
     "name": "stdout",
     "output_type": "stream",
     "text": [
      "{'A': 42, 'B': 33, 'c': 50}\n"
     ]
    }
   ],
   "source": [
    "#create \n",
    "c={\n",
    "    \"A\":42,\n",
    "    \"B\":33,\n",
    "    \"c\":50,\n",
    "}\n",
    "print(c)"
   ]
  },
  {
   "cell_type": "code",
   "execution_count": 3,
   "metadata": {},
   "outputs": [
    {
     "name": "stdout",
     "output_type": "stream",
     "text": [
      "{'1': 'abhishek', '2': 'shanky', '3': 'duggal'}\n"
     ]
    }
   ],
   "source": [
    "roll_no ={\"1\":\"abhishek\",\"2\":\"shanky\",\"3\":\"duggal\"}\n",
    "print(roll_no)"
   ]
  },
  {
   "cell_type": "code",
   "execution_count": 7,
   "metadata": {},
   "outputs": [
    {
     "name": "stdout",
     "output_type": "stream",
     "text": [
      "{'B': 45}\n"
     ]
    }
   ],
   "source": [
    " dict1={\n",
    "     \"A\":22,\n",
    "     \"B\":45,\n",
    " }\n",
    "del dict1['A']\n",
    "print(dict1)"
   ]
  },
  {
   "cell_type": "code",
   "execution_count": 8,
   "metadata": {},
   "outputs": [
    {
     "name": "stdout",
     "output_type": "stream",
     "text": [
      "A 22\n",
      "B 45\n",
      "C 76\n"
     ]
    }
   ],
   "source": [
    "#\n",
    "dict1={\n",
    "    \"A\":22,\n",
    "    \"B\":45,\n",
    "    \"C\":76,\n",
    "\n",
    "}\n",
    "for key,value in dict1.items():\n",
    "    print(key,value)"
   ]
  },
  {
   "cell_type": "code",
   "execution_count": 13,
   "metadata": {},
   "outputs": [
    {
     "name": "stdout",
     "output_type": "stream",
     "text": [
      "mango present\n"
     ]
    }
   ],
   "source": [
    "dict1={\n",
    "\"mango\":\"fruit\",\n",
    "\"apple\":\"fruit\",\n",
    "\"potato\":\"veggie\",\n",
    "\"tomato\": \"veggie\",\n",
    "    }\n",
    "if (\"mango\" not in dict1):\n",
    "    print (\"mango not present\")\n",
    "else:\n",
    "    print(\"mango present\")\n",
    "    "
   ]
  },
  {
   "cell_type": "code",
   "execution_count": 14,
   "metadata": {},
   "outputs": [
    {
     "name": "stdout",
     "output_type": "stream",
     "text": [
      "{'A': 'X', 'B': 42, 'C': 50}\n"
     ]
    }
   ],
   "source": [
    "dict1={\n",
    "    \"A\":23,\n",
    "    \"B\":42,\n",
    "    \"C\":50,\n",
    "}\n",
    "dict1[\"A\"]=\"X\"\n",
    "print(dict1)"
   ]
  },
  {
   "cell_type": "code",
   "execution_count": 20,
   "metadata": {},
   "outputs": [
    {
     "name": "stdout",
     "output_type": "stream",
     "text": [
      "{'A': '69', 'B': 42, 'C': 50}\n"
     ]
    }
   ],
   "source": [
    "dict1={\n",
    "        \"A\":33,\n",
    "        \"B\":42,\n",
    "        \"C\":50,\n",
    "}\n",
    "dict1[\"A\"]=\"69\"\n",
    "print(dict1)\n",
    "    \n"
   ]
  },
  {
   "cell_type": "code",
   "execution_count": 24,
   "metadata": {},
   "outputs": [
    {
     "name": "stdout",
     "output_type": "stream",
     "text": [
      "{1: 1}\n",
      "{1: 1, 2: 4}\n",
      "{1: 1, 2: 4, 3: 9}\n",
      "{1: 1, 2: 4, 3: 9, 4: 16}\n",
      "{1: 1, 2: 4, 3: 9, 4: 16, 5: 25}\n",
      "{1: 1, 2: 4, 3: 9, 4: 16, 5: 25, 6: 36}\n",
      "{1: 1, 2: 4, 3: 9, 4: 16, 5: 25, 6: 36, 7: 49}\n",
      "{1: 1, 2: 4, 3: 9, 4: 16, 5: 25, 6: 36, 7: 49, 8: 64}\n",
      "{1: 1, 2: 4, 3: 9, 4: 16, 5: 25, 6: 36, 7: 49, 8: 64, 9: 81}\n",
      "{1: 1, 2: 4, 3: 9, 4: 16, 5: 25, 6: 36, 7: 49, 8: 64, 9: 81, 10: 100}\n"
     ]
    }
   ],
   "source": [
    "dict1={}\n",
    "for key in range (1,11):\n",
    "    dict1[key]=key*key\n",
    "    print(dict1)"
   ]
  },
  {
   "cell_type": "code",
   "execution_count": null,
   "metadata": {},
   "outputs": [],
   "source": [
    "dict1={\n",
    "    \"A:12,\n",
    "    1:\"ABC\"\n",
    "       5:{\n",
    "\"A\":16,\n",
    "2:\"DEF\",\n",
    "       },\n",
    "    \"c\":17,\n",
    "}\n",
    " b"
   ]
  }
 ],
 "metadata": {
  "kernelspec": {
   "display_name": "Python 3",
   "language": "python",
   "name": "python3"
  },
  "language_info": {
   "codemirror_mode": {
    "name": "ipython",
    "version": 3
   },
   "file_extension": ".py",
   "mimetype": "text/x-python",
   "name": "python",
   "nbconvert_exporter": "python",
   "pygments_lexer": "ipython3",
   "version": "3.7.4"
  }
 },
 "nbformat": 4,
 "nbformat_minor": 2
}
